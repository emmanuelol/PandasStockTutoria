{
 "cells": [
  {
   "cell_type": "markdown",
   "metadata": {},
   "source": [
    "## Characteristics of Technical Analysis:\n",
    "\n",
    "    What it is:\n",
    "    -historical price and volume only\n",
    "    -compute statistics called indicators\n",
    "    -indicators are heuristics\n",
    "    \n",
    "    Why it \"might\"work:\n",
    "    -there is information in price\n",
    "    -heuristisc work"
   ]
  },
  {
   "cell_type": "markdown",
   "metadata": {},
   "source": [
    "## When is Technical Analysis effective:\n",
    "    -Individual indicators weak\n",
    "    -Combinations stronger\n",
    "    -Look for contrasts (stock vs. market)\n",
    "    -Short time periods"
   ]
  },
  {
   "cell_type": "markdown",
   "metadata": {},
   "source": [
    "## A few good indicators:\n",
    "    -Momentum\n",
    "    -Simple Moving Avergae (SMA)\n",
    "    -Bollinger Bands"
   ]
  },
  {
   "cell_type": "markdown",
   "metadata": {},
   "source": [
    "## Momentum:\n",
    "        \"steepnes of line equates to momentum severity\"\n",
    "        -ML requires converting \"increased slope\"\n",
    "        \n",
    "        Pseudo-code:\n",
    "        momentum[t] = price[t] / price [t-n] -1\n",
    "        n-day 5,10\n",
    "        \n",
    "        range: -0.5 to 0.5"
   ]
  },
  {
   "cell_type": "markdown",
   "metadata": {},
   "source": [
    "## Simple moving average (SMA)\n",
    "\n",
    "    -Average of values \"looking back\"\n",
    "    *look for momentum and SMA cross\n",
    "    \n",
    "    Pseudo-code:\n",
    "    SMA[t] = price[t] / price[t-n:t].mean() - 1\n",
    "    \n",
    "    range: -0.50 to +0.50"
   ]
  },
  {
   "cell_type": "markdown",
   "metadata": {},
   "source": [
    "## Bollinger Bands:\n",
    "        -SMA + 2 SD (above and below)\n",
    "        -Sell Sell - Look for cross from outside to inside\n",
    "        -Buy Sell\n",
    "        \n",
    "        Pseudo code:\n",
    "        BB[t] = price[t]-SMA[t] / s * std[t]\n",
    "            -Sell->  +1.0\n",
    "            -Buy ->  -1.0"
   ]
  },
  {
   "cell_type": "markdown",
   "metadata": {},
   "source": [
    "## Normalization:\n",
    "    -SMA      -0.5 to +0.5\n",
    "    -momentum  -0.5 to +0.5\n",
    "    -BB        -1.0 to +1.0\n",
    "    -PE ratio   1  to 300\n",
    "    \n",
    "    *ML Problem is data needs to be normalized or one ML-Algo will \"overwhelm\" the others\n",
    "    \n",
    "    normed = ((values - mean) / (values.std()))\n",
    "    \n",
    "    "
   ]
  },
  {
   "cell_type": "code",
   "execution_count": null,
   "metadata": {
    "collapsed": true
   },
   "outputs": [],
   "source": []
  }
 ],
 "metadata": {
  "kernelspec": {
   "display_name": "Python 2",
   "language": "python",
   "name": "python2"
  },
  "language_info": {
   "codemirror_mode": {
    "name": "ipython",
    "version": 2
   },
   "file_extension": ".py",
   "mimetype": "text/x-python",
   "name": "python",
   "nbconvert_exporter": "python",
   "pygments_lexer": "ipython2",
   "version": "2.7.11"
  }
 },
 "nbformat": 4,
 "nbformat_minor": 1
}
