{
 "cells": [
  {
   "cell_type": "markdown",
   "metadata": {},
   "source": [
    "## Types of funds:\n",
    "\n",
    "    1.ETF:\n",
    "        -Buy/Sell like stocks\n",
    "        -Baskets of stocks\n",
    "        -Transparent\n",
    "        Liquid? -> Yes, easy to buy and so much volume trading daily\n",
    "        \n",
    "    2.Mutual Fund:\n",
    "        -Buy/Sell at end of the day\n",
    "        -Quarterly disclosure\n",
    "        -Less transparent\n",
    "        \n",
    "    3.Hedge Fund:\n",
    "        -Buy/Sell by agreement\n",
    "        -No Disclosure\n",
    "        -Not Transparent\n",
    "        "
   ]
  },
  {
   "cell_type": "markdown",
   "metadata": {},
   "source": [
    "#### Liquid: \"Ease with which one can buy/sell\"\n",
    "\n",
    "#### Large \"Cap\":  # shares * price\n",
    "    "
   ]
  },
  {
   "cell_type": "markdown",
   "metadata": {},
   "source": [
    "## Incentives:  How are they compensated?\n",
    "\n",
    "            ETF ------------ Expense Ratio -- 0.01% to 1.00%\n",
    "            Mutual Funds-----Expense Ratio -- 0.5% to 3.00%\n",
    "            Hedge Funds -----\"Two and Twenty\""
   ]
  },
  {
   "cell_type": "raw",
   "metadata": {},
   "source": [
    "\"Two and Twenty\"\n",
    "    Managing a fund worth: $100,000,000\n",
    "    Your skill = 15% return\n",
    "    \n",
    "    \"Two\" = $100M * 0.02 = $2M\n",
    " \"Twenty\" = $15M * 0.2   = $3M\n",
    "                  Total  = $5M"
   ]
  },
  {
   "cell_type": "markdown",
   "metadata": {},
   "source": [
    "## Hedgefund Goals and Metrics:\n",
    "\n",
    "    Goal:\n",
    "    -Beat a benchmark       sp500\n",
    "    -Absolute return        long/short (negative bets on stocks think will go down)\n",
    "    \n",
    "    \n",
    "    Metrics:\n",
    "    -Cumulative Return:\n",
    "        -Measure of increases over time  \n",
    "        (val[-1]/val[0])-1\n",
    "    \n",
    "    -Volatility:\n",
    "        -How Rapidly prices increase/decrease \n",
    "        daily_rets.std()\n",
    "        \n",
    "    -Risk/Reward:\n",
    "        -Sharpe Ratio (\"risk adjusted reward\")\n",
    "        S.R. = sq(252) * mean(daily_rets_rf)/daily_rets.std()"
   ]
  },
  {
   "cell_type": "code",
   "execution_count": null,
   "metadata": {
    "collapsed": true
   },
   "outputs": [],
   "source": []
  },
  {
   "cell_type": "markdown",
   "metadata": {},
   "source": [
    "## Hedge Funds Computational Structure:\n",
    "\n",
    "                                                \"Orders\"\n",
    "                                            _>  orders_V.csv _____\n",
    "                                           /                      \\ \n",
    "                                          /                        \\\n",
    "                                         /                          V\n",
    "    Historical Price Data---->\"Trading Algorithm\"                  \"Market\"\n",
    "                                           ^                          /\n",
    "                                            \\                        /  \n",
    "                                             \\  \"Live Portfolio\" <--/   \n",
    "                                                portfolio_LIVE.h5\n",
    "                                                       "
   ]
  },
  {
   "cell_type": "code",
   "execution_count": null,
   "metadata": {
    "collapsed": true
   },
   "outputs": [],
   "source": []
  }
 ],
 "metadata": {
  "kernelspec": {
   "display_name": "Python 2",
   "language": "python",
   "name": "python2"
  },
  "language_info": {
   "codemirror_mode": {
    "name": "ipython",
    "version": 2
   },
   "file_extension": ".py",
   "mimetype": "text/x-python",
   "name": "python",
   "nbconvert_exporter": "python",
   "pygments_lexer": "ipython2",
   "version": "2.7.11+"
  }
 },
 "nbformat": 4,
 "nbformat_minor": 1
}
