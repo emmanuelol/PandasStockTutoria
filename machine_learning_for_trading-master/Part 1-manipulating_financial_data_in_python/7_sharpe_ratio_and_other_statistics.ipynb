{
 "cells": [
  {
   "cell_type": "markdown",
   "metadata": {},
   "source": [
    "## Daily Portfolio Value:\n",
    "    Start_val = $1,000,000.00\n",
    "    Start_date = 2009-01-01\n",
    "    End_date = 2011-12-31\n",
    "    Symbols = ['SPY', 'XOM', 'GOOG', 'GLD']\n",
    "    Allocs = [0.4, 0.4, 0.1, 0.1]\n",
    "    \n",
    "How do we calculate the total value of the portfolio day-by-day?\n"
   ]
  },
  {
   "cell_type": "markdown",
   "metadata": {},
   "source": [
    "### Step 1. Normalize prices = Prices / prices[0]\n",
    "### Step 2. Allocations = Normalize prices * Allocations\n",
    "### Step 3. Position_values = Allocations * Start_values\n",
    "### Step 4. Portfolio_values  = Position_values.sum(axis=1)\n"
   ]
  },
  {
   "cell_type": "markdown",
   "metadata": {},
   "source": []
  },
  {
   "cell_type": "markdown",
   "metadata": {},
   "source": [
    "## Portfolio Statistics:\n",
    "\n",
    "Step 1: daily_returns = daily_returns[1:]\n",
    "\n",
    "    -Cumulative_return = (portfolio_value[-1]/portfolio_value[0]) - 1\n",
    "    -Avgerage_daily_return = daily_returns_.mean()\n",
    "    -Standard_dev_daily_return = daily_return.std()\n",
    "    -Sharpe_ratio = \"Risk adjusted return\"  \n",
    "                    Allows quantitative assessment \n",
    "                        -lower risk is better\n",
    "                        -higher return is better\n",
    "                    SR also considers:\n",
    "                        -risk free rate of return"
   ]
  },
  {
   "cell_type": "markdown",
   "metadata": {},
   "source": [
    "## Portfolio Value:\n",
    "    Directly proportional to returns generated over a baseline, and inversely proportional to its volatility."
   ]
  },
  {
   "cell_type": "markdown",
   "metadata": {},
   "source": [
    " ## What is an example Sharp Ratio (SR) formula?\n",
    "        Rp: portfolio return\n",
    "        Rf: risk free rate of return\n",
    "        Op: std dev of portfolio return\n",
    " \n",
    "     Sharp_Ratio = (Rp - Rf) / Op"
   ]
  },
  {
   "cell_type": "markdown",
   "metadata": {},
   "source": [
    "## Computing Sharpe Ratio:\n",
    "    S = E[Rp - Rf] / std[Rp - Rf]\n",
    "    \n",
    "    To compute in python:\n",
    "        S = mean(daily_ret - daily_rf) / std(daily_ret - daily_rf)\n",
    "        \n",
    "        *What is the Rf (risk free rate_?\n",
    "            Sources:\n",
    "                LIBOR, 3mo T-Bill, 0%\n",
    "                \n",
    "       Traditional Shortcut:\n",
    "           daily_rf = 252thSQ(1.0 + 0.1) - 1\n",
    "           \n",
    "     To compute in python:\n",
    "        S = mean(daily_ret - daily_rf) / std(daily_ret)\n",
    "        \n",
    "       "
   ]
  },
  {
   "cell_type": "markdown",
   "metadata": {},
   "source": [
    "## Sharp Ratio - computed on how frequently you sample:\n",
    "\n",
    "    SR is an annual measure\n",
    "    SRannualized = k * SR\n",
    "    k = sq(#samples per year)\n",
    "        daily k = sq(252)\n",
    "        weekly k = sq(52)\n",
    "        monthly k = sq(12)\n",
    "        \n",
    "    SR = sq(252) * mean(daily_returns - daily_rf) / std(daily_returns)"
   ]
  },
  {
   "cell_type": "markdown",
   "metadata": {},
   "source": [
    "## What is the sharpe ratio?\n",
    "\n",
    "    Given:\n",
    "        60 days of data\n",
    "        avg daily retrun = 10 bps = 0.001\n",
    "        daily risk free = 2 bps = 0.0002\n",
    "        std daily return = 10 bps = 0.001\n",
    "        "
   ]
  },
  {
   "cell_type": "code",
   "execution_count": 2,
   "metadata": {
    "collapsed": true
   },
   "outputs": [],
   "source": [
    "import os\n",
    "import pandas as pd\n",
    "import matplotlib.pyplot as plt\n",
    "import numpy as np"
   ]
  },
  {
   "cell_type": "code",
   "execution_count": 4,
   "metadata": {},
   "outputs": [],
   "source": [
    "k = np.sqrt(252)  # because we're sampling daily data\n",
    "avg_daily_rets = 0.001 \n",
    "daily_rf = 0.0002\n",
    "std_daily_rets = 0.001\n",
    "\n",
    "SR = k * np.mean(avg_daily_rets - daily_rf) / std_daily_rets"
   ]
  },
  {
   "cell_type": "code",
   "execution_count": 5,
   "metadata": {},
   "outputs": [
    {
     "name": "stdout",
     "output_type": "stream",
     "text": [
      "12.6996062931\n"
     ]
    }
   ],
   "source": [
    "print(SR)"
   ]
  },
  {
   "cell_type": "markdown",
   "metadata": {},
   "source": [
    "## To create:\n",
    "Functions to automatically calculate:\n",
    "    1. Cumulative_return \n",
    "    2. Avgerage_daily_return\n",
    "    3. Risk (standard_dev_daily_return)\n",
    "    4. Sharpe_ratio \n",
    "    \n",
    "    \n",
    "    start_val = 1000000\n",
    "    dates = pd.date_range('2009-01-01', '2011-12-31')\n",
    "    symbols = ['SPY', 'XOM', 'GOOG', 'GLD']\n",
    "    allocs = [0.4, 0.4, 0.1, 0.1]"
   ]
  },
  {
   "cell_type": "markdown",
   "metadata": {},
   "source": [
    "### 1. Normalize prices:"
   ]
  },
  {
   "cell_type": "code",
   "execution_count": 6,
   "metadata": {},
   "outputs": [
    {
     "data": {
      "image/png": "[encoded data removed]",
      "text/plain": [
       "<matplotlib.figure.Figure at 0x7f66503d3610>"
      ]
     },
     "metadata": {},
     "output_type": "display_data"
    }
   ],
   "source": [
    "\"\"\"Normalize Prices and Plot\"\"\"\n",
    "\n",
    "import os\n",
    "import pandas as pd\n",
    "import matplotlib.pyplot as plt\n",
    "\n",
    "def plot_selected(df, columns, start_index, end_index):\n",
    "    \"\"\"Plot the desired columns over index values in the given range\"\"\"\n",
    "    plot_data(df.ix[start_index:end_index,columns], title=\"Selected data\")\n",
    "     \n",
    "\n",
    "def symbol_to_path(symbol, base_dir=\"data\"):\n",
    "    \"\"\"Return CSV file path given ticker symbol\"\"\"\n",
    "    return os.path.join(base_dir, \"{}.csv\".format(str(symbol)))\n",
    "\n",
    "def get_data(symbols, dates):\n",
    "    \"\"\"Read stock data (adjusted close) for given symbols from CSV files\"\"\"\n",
    "    df = pd.DataFrame(index=dates)\n",
    "    if 'SPY' not in symbols: # add SPY for reference, if absent\n",
    "        symbols.insert(0, 'SPY')\n",
    "        \n",
    "    for symbol in symbols:\n",
    "        df_temp = pd.read_csv(symbol_to_path(symbol), index_col='Date',\n",
    "                           parse_dates=True, usecols=['Date', 'Adj Close'], na_values=['nan'])\n",
    "        df_temp = df_temp.rename(columns = {'Adj Close': symbol})\n",
    "        df = df.join(df_temp) # use default how='left'\n",
    "        if symbol == 'SPY': #drop dates SPY did not trade\n",
    "            df = df.dropna(subset=[\"SPY\"])\n",
    "        \n",
    "    return df\n",
    "\n",
    "def normalize_data(df):\n",
    "    \"\"\"Normalize stock prices using the first row of the df\"\"\"\n",
    "    return df / df.ix[0,:]\n",
    "    \n",
    "    \n",
    "def plot_data(df, title=\"Normalized prices\"):\n",
    "    \"\"\"Plot stock prices\"\"\"\n",
    "    ax = df.plot(title=title, fontsize=12)\n",
    "    ax.set_xlabel(\"Date\")\n",
    "    ax.set_ylabel(\"Price\")\n",
    "    plt.show() # called to show plots\n",
    "   \n",
    "def test_run():\n",
    "    # define a date range\n",
    "    dates = pd.date_range('2009-01-01', '2011-12-31') # 2009 - 2011\n",
    "    \n",
    "    # choose stock symbols to read\n",
    "    symbols = ['XOM', 'GOOG', 'GLD'] # SPY will be added in get_data()\n",
    "    \n",
    "    #get stock data\n",
    "    df = get_data(symbols, dates)\n",
    "     \n",
    "    #Slice and plot\n",
    "    #plot_selected(df, symbols, dates)\n",
    "    plot_data(normalize_data(df))\n",
    "    \n",
    "if __name__ == '__main__':\n",
    "    test_run()"
   ]
  },
  {
   "cell_type": "markdown",
   "metadata": {},
   "source": [
    "## 2. Allocated:       "
   ]
  },
  {
   "cell_type": "code",
   "execution_count": null,
   "metadata": {
    "collapsed": true
   },
   "outputs": [],
   "source": [
    "\"\"\"allocated = normalized * allocations  and Plot\"\"\"\n",
    "\n",
    "import os\n",
    "import pandas as pd\n",
    "import matplotlib.pyplot as plt\n",
    "\n",
    "def plot_selected(df, columns, start_index, end_index):\n",
    "    \"\"\"Plot the desired columns over index values in the given range\"\"\"\n",
    "    plot_data(df.ix[start_index:end_index,columns], title=\"Selected data\")\n",
    "     \n",
    "\n",
    "def symbol_to_path(symbol, base_dir=\"data\"):\n",
    "    \"\"\"Return CSV file path given ticker symbol\"\"\"\n",
    "    return os.path.join(base_dir, \"{}.csv\".format(str(symbol)))\n",
    "\n",
    "def get_data(symbols, dates):\n",
    "    \"\"\"Read stock data (adjusted close) for given symbols from CSV files\"\"\"\n",
    "    df = pd.DataFrame(index=dates)\n",
    "    if 'SPY' not in symbols: # add SPY for reference, if absent\n",
    "        symbols.insert(0, 'SPY')\n",
    "        \n",
    "    for symbol in symbols:\n",
    "        df_temp = pd.read_csv(symbol_to_path(symbol), index_col='Date',\n",
    "                           parse_dates=True, usecols=['Date', 'Adj Close'], na_values=['nan'])\n",
    "        df_temp = df_temp.rename(columns = {'Adj Close': symbol})\n",
    "        df = df.join(df_temp) # use default how='left'\n",
    "        if symbol == 'SPY': #drop dates SPY did not trade\n",
    "            df = df.dropna(subset=[\"SPY\"])\n",
    "        \n",
    "    return df\n",
    "\n",
    "def normalize_data(df):\n",
    "    \"\"\"Normalize stock prices using the first row of the df\"\"\"\n",
    "    return df / df.ix[0,:]\n",
    "    \n",
    "def allocations(df):\n",
    "    \"\"\"Allocations per allocated percents\"\"\"\n",
    "    \n",
    "    \n",
    "def plot_data(df, title=\"Normalized prices\"):\n",
    "    \"\"\"Plot stock prices\"\"\"\n",
    "    ax = df.plot(title=title, fontsize=12)\n",
    "    ax.set_xlabel(\"Date\")\n",
    "    ax.set_ylabel(\"Price\")\n",
    "    plt.show() # called to show plots\n",
    "   \n",
    "def test_run():\n",
    "    # define a date range\n",
    "    dates = pd.date_range('2009-01-01', '2011-12-31') # 2009 - 2011\n",
    "    \n",
    "    # choose stock symbols to read\n",
    "    symbols = ['XOM', 'GOOG', 'GLD'] # SPY will be added in get_data()\n",
    "    \n",
    "    #get stock data\n",
    "    df = get_data(symbols, dates)\n",
    "     \n",
    "    #Slice and plot\n",
    "    #plot_selected(df, symbols, dates)\n",
    "    plot_data(normalize_data(df))\n",
    "    \n",
    "if __name__ == '__main__':\n",
    "    test_run()"
   ]
  },
  {
   "cell_type": "code",
   "execution_count": null,
   "metadata": {
    "collapsed": true
   },
   "outputs": [],
   "source": []
  },
  {
   "cell_type": "code",
   "execution_count": null,
   "metadata": {
    "collapsed": true
   },
   "outputs": [],
   "source": []
  },
  {
   "cell_type": "code",
   "execution_count": null,
   "metadata": {
    "collapsed": true
   },
   "outputs": [],
   "source": []
  },
  {
   "cell_type": "code",
   "execution_count": null,
   "metadata": {
    "collapsed": true
   },
   "outputs": [],
   "source": [
    "\"\"\"Cumulative_return\"\"\"\n",
    "import os\n",
    "import pandas as pd\n",
    "import matplotlib.pyplot as plt\n",
    "import numpy as np\n",
    "\n",
    " \n",
    "def symbol_to_path(symbol, base_dir=\"data\"):\n",
    "    \"\"\"Return CSV file path given ticker symbol.\"\"\"\n",
    "    return os.path.join(base_dir, \"{}.csv\".format(str(symbol)))\n",
    "\n",
    "\n",
    "#------------------reads csv-----------------------------------\n",
    "def get_data(symbollist, dates):\n",
    "    df_final=pd.DataFrame(index=dates)\n",
    "    if \"SPY\" not in symbollist:\n",
    "        symbollist.insert(0,\"SPY\")\n",
    "    for symbol in symbollist:\n",
    "        file_path=symbol_to_path(symbol)\n",
    "        df_temp=pd.read_csv(file_path,parse_dates=True,\n",
    "                            index_col=\"Date\",\n",
    "                            usecols=[\"Date\", \"Adj Close\"])\n",
    "        df_temp=df_temp.rename(columns={'Adj Close':symbol})\n",
    "        df_final=df_final.join(df_temp)\n",
    "        if symbol == \"SPY\":\n",
    "            df_final=df_final.dropna(subset=['SPY'])\n",
    "    return df_final\n",
    "\n",
    "\n",
    "#------------------plot function------------------------------\n",
    "def plot_data(df_data):\n",
    "    ax=df_data.plot(fontsize=2)\n",
    "    ax.set_xlabel(\"Date\")\n",
    "    ax.set_ylabel(\"Price\")\n",
    "    plt.show()\n",
    "    \n",
    "    \n",
    "def compute_daily_returns(df):\n",
    "    \"\"\"Compute and return the daily return values.\"\"\"\n",
    "    daily_returns = df.copy()\n",
    "    daily_returns[1:] = (df[1:] / df[:-1].values) -1\n",
    "    daily_returns.ix[0, :] = 0 # set daily returns for row 0 to 0\n",
    "    return daily_returns\n",
    "\n",
    "def test_run():\n",
    "    # read data\n",
    "    start_val = 1000000\n",
    "    dates = pd.date_range('2009-01-01', '2011-12-31')\n",
    "    symbols = ['SPY', 'XOM', 'GOOG', 'GLD']\n",
    "    allocs = [0.4, 0.4, 0.1, 0.1]\n",
    "    df = get_data(symbols, dates)\n",
    "     \n",
    "    # Compute daily returns\n",
    "    daily_returns = compute_daily_returns(df)\n",
    "    \n",
    "    \n",
    "    \n",
    "    #--------------Scatterplot SPY vs XOM--------------------\n",
    "    daily_returns.plot(kind='scatter', x='SPY',y='XOM')\n",
    "    beta_XOM,alpha_XOM = np.polyfit(daily_returns['SPY'],\n",
    "                                    daily_returns['XOM'],\n",
    "                                   1)\n",
    "    print \"beta_XOM= \",beta_XOM\n",
    "    print \"alpha_XOM= \",alpha_XOM\n",
    "    # fitting a line with, \"y=mx+b\"\n",
    "    plt.plot(daily_returns['SPY'], \n",
    "             beta_XOM*daily_returns['SPY'] + alpha_XOM, \n",
    "             '-',\n",
    "            color='r')\n",
    "    plt.show()\n",
    "    \n",
    "    \n",
    "    #-------------Scatterplot SPY vs GLD------------------\n",
    "    daily_returns.plot(kind='scatter', x='SPY',y='GLD')\n",
    "    beta_GLD,alpha_GLD = np.polyfit(daily_returns['SPY'],\n",
    "                                    daily_returns['GLD'],\n",
    "                                   1)\n",
    "    print \"beta_GLD= \",beta_GLD\n",
    "    print \"alpha_GLD= \",alpha_GLD\n",
    "    # fitting a line with, \"y=mx+b\"\n",
    "    plt.plot(daily_returns['SPY'], \n",
    "             beta_GLD*daily_returns['SPY'] + alpha_GLD, \n",
    "             '-',\n",
    "            color='r')\n",
    "    plt.show()\n",
    "    \n",
    "    #-----------Calculate correlation coefficient----------------\n",
    "    # method used = 'pearson'\n",
    "    print daily_returns.corr(method='pearson')\n",
    "    \n",
    "    \n",
    "    \n",
    "    #plot_data(daily_returns, title=\"Daily returns\", \n",
    "    #         ylabel=\"Daily returns\")\n",
    "    \n",
    "    \n",
    "    \n",
    "    \n",
    "if __name__ == \"__main__\":\n",
    "    test_run()\n"
   ]
  }
 ],
 "metadata": {
  "kernelspec": {
   "display_name": "Python 2",
   "language": "python",
   "name": "python2"
  },
  "language_info": {
   "codemirror_mode": {
    "name": "ipython",
    "version": 2
   },
   "file_extension": ".py",
   "mimetype": "text/x-python",
   "name": "python",
   "nbconvert_exporter": "python",
   "pygments_lexer": "ipython2",
   "version": "2.7.11"
  }
 },
 "nbformat": 4,
 "nbformat_minor": 1
}
