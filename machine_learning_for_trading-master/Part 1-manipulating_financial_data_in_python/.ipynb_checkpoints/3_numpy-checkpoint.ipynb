{
 "cells": [
  {
   "cell_type": "code",
   "execution_count": 2,
   "metadata": {
    "collapsed": true
   },
   "outputs": [],
   "source": [
    "# numpy is a wrapper for numerical librarys\n",
    "# Works with \"ndarray's\""
   ]
  },
  {
   "cell_type": "code",
   "execution_count": 4,
   "metadata": {
    "collapsed": false
   },
   "outputs": [
    {
     "name": "stdout",
     "output_type": "stream",
     "text": [
      "[2 3 4]\n"
     ]
    }
   ],
   "source": [
    "\"\"\"Creating NumPy arrays\"\"\"\n",
    "import numpy as np\n",
    "\n",
    "def test_run():\n",
    "    # List to 1D array\n",
    "    print np.array([2,3,4])\n",
    "    \n",
    "if __name__ == \"__main__\":\n",
    "    test_run()"
   ]
  },
  {
   "cell_type": "code",
   "execution_count": 9,
   "metadata": {
    "collapsed": true
   },
   "outputs": [
    {
     "name": "stdout",
     "output_type": "stream",
     "text": [
      "[  3.61528386e-316   2.05565498e-316   2.05565498e-316   3.61522695e-316\n",
      "   2.49970340e+262]\n",
      "[[[[  3.57596177e-316   3.45398210e-316]\n",
      "   [  4.65409838e-321   2.12199579e-314]\n",
      "   [  5.83289918e-302   1.10351339e+217]]\n",
      "\n",
      "  [[  4.76413539e-309   1.06718234e-287]\n",
      "   [  4.71524452e-309   1.64182142e-287]\n",
      "   [  4.94829688e+173   7.11632551e-310]]\n",
      "\n",
      "  [[  3.24686695e+178   1.02779292e-308]\n",
      "   [  1.69230381e+127   1.18989304e-307]\n",
      "   [  3.38211367e-306   1.44499434e-308]]\n",
      "\n",
      "  [[  3.63144604e-249   7.31496508e-304]\n",
      "   [  2.00181444e-308   7.74789106e-304]\n",
      "   [  7.25304136e+221  -8.10657139e+016]]]\n",
      "\n",
      "\n",
      " [[[  1.68463686e+212   2.27994032e-308]\n",
      "   [  8.52490918e-254   2.27450999e-308]\n",
      "   [  5.83298872e-302   1.10836113e+217]]\n",
      "\n",
      "  [[  3.32612382e+223   1.75607473e-258]\n",
      "   [  5.25698343e+173   3.11434307e-308]\n",
      "   [  2.09984583e-301   2.00144945e-308]]\n",
      "\n",
      "  [[  3.33254691e-186   2.00126484e-308]\n",
      "   [  5.08506303e-191   2.00126484e-308]\n",
      "   [  6.14747693e-167   2.55753331e-308]]\n",
      "\n",
      "  [[  2.39957047e-239   1.11159296e+217]\n",
      "   [  1.90146306e-210   1.39451873e+188]\n",
      "   [  4.08781297e-308   2.91737174e-162]]]\n",
      "\n",
      "\n",
      " [[[  4.96398713e+173   5.68110957e-308]\n",
      "   [ -3.15933777e-294   5.93860106e-308]\n",
      "   [  1.22909448e-123   4.96398713e+173]]\n",
      "\n",
      "  [[  6.51551221e-308   4.96398714e+173]\n",
      "   [  2.43888223e-239   1.11159296e+217]\n",
      "   [  2.39998385e-239   1.11159296e+217]]\n",
      "\n",
      "  [[  2.39998385e-239   4.31517553e+096]\n",
      "   [  2.54927422e-157   7.36651031e-304]\n",
      "   [  2.54927561e-157   7.36829037e-304]]\n",
      "\n",
      "  [[  2.54927700e-157   7.37007043e-304]\n",
      "   [  2.54927838e-157   7.37185049e-304]\n",
      "   [  2.54927977e-157   7.37363054e-304]]]\n",
      "\n",
      "\n",
      " [[[  2.54928116e-157   7.37541060e-304]\n",
      "   [  2.54928255e-157   7.37897072e-304]\n",
      "   [  1.93452642e-075   4.83692837e-308]]\n",
      "\n",
      "  [[  3.85768856e-066   1.07994309e-307]\n",
      "   [  2.58999086e+207   1.93395815e-309]\n",
      "   [  2.42225983e-051   3.42957967e+125]]\n",
      "\n",
      "  [[  1.29897397e-307   4.46828995e-032]\n",
      "   [  3.43288495e+125   8.60297319e-023]\n",
      "   [  4.94828745e+173   1.19184884e-307]]\n",
      "\n",
      "  [[  7.11619606e-047   1.11803768e+217]\n",
      "   [  1.41435622e-307   8.60297839e-023]\n",
      "   [  7.39499125e-304   8.67478265e-119]]]\n",
      "\n",
      "\n",
      " [[[  1.11965359e+217   1.74811732e-307]\n",
      "   [  1.04003932e+002   1.93737898e-307]\n",
      "   [  4.06082897e-114  -3.13487879e-294]]\n",
      "\n",
      "  [[  1.36317552e+007  -3.15705910e-294]\n",
      "   [  1.36317552e+007  -3.15705910e-294]\n",
      "   [  1.36317552e+007  -3.15705910e-294]]\n",
      "\n",
      "  [[  1.36317552e+007   4.99900950e+173]\n",
      "   [  8.45267391e-308   5.25577816e+173]\n",
      "   [  2.04950165e-307   5.85490765e+016]]\n",
      "\n",
      "  [[  5.00504784e+173   7.21689251e+011]\n",
      "   [  5.00384017e+173   7.98000625e-304]\n",
      "   [  5.02802184e+173   1.07863948e-307]]]]\n"
     ]
    }
   ],
   "source": [
    "\"\"\"Creating NumPy arrays\"\"\"\n",
    "import numpy as np\n",
    "\n",
    "def test_run():\n",
    "    # List to 1D array\n",
    "    print np.empty(5)\n",
    "    print np.empty((5,4,3,2))\n",
    "    \n",
    "    \n",
    "if __name__ == \"__main__\":\n",
    "    test_run()"
   ]
  },
  {
   "cell_type": "code",
   "execution_count": 11,
   "metadata": {
    "collapsed": false
   },
   "outputs": [
    {
     "name": "stdout",
     "output_type": "stream",
     "text": [
      "[[ 1.  1.  1.  1.]\n",
      " [ 1.  1.  1.  1.]\n",
      " [ 1.  1.  1.  1.]\n",
      " [ 1.  1.  1.  1.]\n",
      " [ 1.  1.  1.  1.]]\n"
     ]
    }
   ],
   "source": [
    "\"\"\"Creating NumPy arrays\"\"\"\n",
    "import numpy as np\n",
    "\n",
    "def test_run():\n",
    "    # List to 1D array\n",
    "    print np.ones((5,4))\n",
    "     \n",
    "    \n",
    "if __name__ == \"__main__\":\n",
    "    test_run()"
   ]
  },
  {
   "cell_type": "code",
   "execution_count": 14,
   "metadata": {
    "collapsed": true
   },
   "outputs": [
    {
     "name": "stdout",
     "output_type": "stream",
     "text": [
      "[[1 1 1 1]\n",
      " [1 1 1 1]\n",
      " [1 1 1 1]\n",
      " [1 1 1 1]\n",
      " [1 1 1 1]]\n"
     ]
    }
   ],
   "source": [
    "\"\"\"Creating NumPy arrays\"\"\"\n",
    "import numpy as np\n",
    "\n",
    "def test_run():\n",
    "    # List to 1D array\n",
    "    print np.ones((5,4), dtype=np.int_)\n",
    "     \n",
    "    \n",
    "if __name__ == \"__main__\":\n",
    "    test_run()"
   ]
  },
  {
   "cell_type": "code",
   "execution_count": 18,
   "metadata": {
    "collapsed": false
   },
   "outputs": [
    {
     "name": "stdout",
     "output_type": "stream",
     "text": [
      "[[ 0.86425788  0.69811254  0.36482509  0.49778661]\n",
      " [ 0.47405723  0.45973119  0.80779548  0.16538966]\n",
      " [ 0.37809212  0.49406603  0.51476551  0.12029871]\n",
      " [ 0.48986309  0.19439764  0.89506448  0.75575813]\n",
      " [ 0.5872872   0.87812123  0.03696544  0.00172821]]\n"
     ]
    }
   ],
   "source": [
    "\"\"\"Creating random numbers\"\"\"\n",
    "import numpy as np\n",
    "\n",
    "def test_run():\n",
    "    print np.random.rand(5,4)\n",
    "     \n",
    "    \n",
    "if __name__ == \"__main__\":\n",
    "    test_run()"
   ]
  },
  {
   "cell_type": "code",
   "execution_count": 19,
   "metadata": {
    "collapsed": false
   },
   "outputs": [
    {
     "name": "stdout",
     "output_type": "stream",
     "text": [
      "[[ 1.34734415  1.29404222  2.06108093]\n",
      " [ 1.22003576  0.18132377  0.67202424]]\n"
     ]
    }
   ],
   "source": [
    "\"\"\"Creating random numbers\"\"\"\n",
    "import numpy as np\n",
    "\n",
    "def test_run():\n",
    "    print np.random.normal(size=(2,3))  # standard normal mean=0\n",
    "     \n",
    "    \n",
    "if __name__ == \"__main__\":\n",
    "    test_run()"
   ]
  },
  {
   "cell_type": "code",
   "execution_count": 20,
   "metadata": {
    "collapsed": false
   },
   "outputs": [
    {
     "name": "stdout",
     "output_type": "stream",
     "text": [
      "[[ 57.98684523  50.83065299  44.69835917]\n",
      " [ 39.5757853   44.31076624  49.76911715]]\n"
     ]
    }
   ],
   "source": [
    "\"\"\"Creating random numbers\"\"\"\n",
    "import numpy as np\n",
    "\n",
    "def test_run():\n",
    "    print np.random.normal(50, 10, size=(2,3))  #  mean=50 and s.d to 10\n",
    "     \n",
    "    \n",
    "if __name__ == \"__main__\":\n",
    "    test_run()"
   ]
  },
  {
   "cell_type": "code",
   "execution_count": 24,
   "metadata": {
    "collapsed": false
   },
   "outputs": [
    {
     "name": "stdout",
     "output_type": "stream",
     "text": [
      "5\n",
      "4\n",
      "2\n",
      "20\n",
      "float64\n"
     ]
    }
   ],
   "source": [
    "\"\"\"Array attributes\"\"\"\n",
    "import numpy as np\n",
    "\n",
    "def test_run():\n",
    "    a = np.random.random((5,4))\n",
    "    print a.shape[0] # rows\n",
    "    print a.shape[1] # columsn\n",
    "    print len(a.shape) # array dimention\n",
    "    print a.size #number of attributes\n",
    "    print a.dtype\n",
    "    \n",
    "if __name__ == \"__main__\":\n",
    "    test_run()"
   ]
  },
  {
   "cell_type": "code",
   "execution_count": 28,
   "metadata": {
    "collapsed": true
   },
   "outputs": [
    {
     "name": "stdout",
     "output_type": "stream",
     "text": [
      "Array:\n",
      "[[2 0 5 1]\n",
      " [1 3 4 4]\n",
      " [9 2 9 1]\n",
      " [9 3 7 5]\n",
      " [4 7 0 3]]\n",
      "Sum of all elements:\n",
      "79\n",
      "Sum of each column:\n",
      "[25 15 25 14]\n"
     ]
    }
   ],
   "source": [
    "\"\"\"Ops on attributes\"\"\"\n",
    "import numpy as np\n",
    "\n",
    "def test_run():\n",
    "    np.random.seed(693)\n",
    "    a = np.random.randint(0, 10, size=(5,4))\n",
    "    print \"Array:\\n\", a\n",
    "    \n",
    "    #sum all elemts\n",
    "    print \"Sum of all elements:\\n\", a.sum()\n",
    "    \n",
    "    #sum each column\n",
    "    print \"Sum of each column:\\n\", a.sum(axis=0)\n",
    "    \n",
    "    \n",
    "if __name__ == \"__main__\":\n",
    "    test_run()"
   ]
  },
  {
   "cell_type": "code",
   "execution_count": 29,
   "metadata": {
    "collapsed": true
   },
   "outputs": [
    {
     "name": "stdout",
     "output_type": "stream",
     "text": [
      "Array:\n",
      "[[2 0 5 1]\n",
      " [1 3 4 4]\n",
      " [9 2 9 1]\n",
      " [9 3 7 5]\n",
      " [4 7 0 3]]\n",
      "Min of each col:\n",
      "[1 0 0 1]\n",
      "Max of each row:\n",
      "[5 4 9 9 7]\n",
      "Mean of all elements:\n",
      "3.95\n"
     ]
    }
   ],
   "source": [
    "\"\"\"Ops on attributes\"\"\"\n",
    "import numpy as np\n",
    "\n",
    "def test_run():\n",
    "    np.random.seed(693)\n",
    "    a = np.random.randint(0, 10, size=(5,4))\n",
    "    print \"Array:\\n\", a\n",
    "    \n",
    "    #stastics: min, max, mean(across rows, cols, and overall)\n",
    "    print \"Min of each col:\\n\", a.min(axis=0)\n",
    "    print \"Max of each row:\\n\", a.max(axis=1)\n",
    "    print \"Mean of all elements:\\n\", a.mean()\n",
    "    \n",
    "    \n",
    "    \n",
    "if __name__ == \"__main__\":\n",
    "    test_run()"
   ]
  },
  {
   "cell_type": "code",
   "execution_count": 31,
   "metadata": {
    "collapsed": false
   },
   "outputs": [
    {
     "name": "stdout",
     "output_type": "stream",
     "text": [
      " Array:\n",
      "[ 9  6  2  3 12 14  7 10]\n",
      "Max value: 14\n",
      "Index of max.: 5\n"
     ]
    }
   ],
   "source": [
    "\"\"\"Locate max value\"\"\"\n",
    "import numpy as np\n",
    "\n",
    "def get_max_index(a):\n",
    "    \"\"\"Return the index of the maximum value in given 1D array\"\"\"\n",
    "    return a.argmax()\n",
    "    \n",
    "\n",
    "def test_run():\n",
    "    a = np.array([9,6,2,3,12,14,7,10], dtype=np.int32)\n",
    "    print \"Array:\\n\", a\n",
    "    \n",
    "    #find max and index in the array\n",
    "    print \"Max value:\", a.max()\n",
    "    print \"Index of max.:\", get_max_index(a)\n",
    "    \n",
    "    \n",
    "    \n",
    "if __name__ == \"__main__\":\n",
    "    test_run()"
   ]
  },
  {
   "cell_type": "code",
   "execution_count": 33,
   "metadata": {
    "collapsed": false
   },
   "outputs": [
    {
     "name": "stdout",
     "output_type": "stream",
     "text": [
      "ML4T\n",
      "The time taken by print statement is  0.0  seconds\n"
     ]
    }
   ],
   "source": [
    "\"\"\"using time fun\"\"\"\n",
    "\n",
    "import time\n",
    "\n",
    "def test_run():\n",
    "    t1 = time.time()\n",
    "    print \"ML4T\"\n",
    "    t2 = time.time()\n",
    "    print \"The time taken by print statement is \",t2 - t1,\" seconds\"\n",
    "\n",
    "\n",
    "if __name__ == \"__main__\":\n",
    "    test_run()"
   ]
  },
  {
   "cell_type": "code",
   "execution_count": 37,
   "metadata": {
    "collapsed": false
   },
   "outputs": [
    {
     "name": "stdout",
     "output_type": "stream",
     "text": [
      "Array: \n",
      "[[ 0.29624151  0.52007049  0.19683409  0.0186893 ]\n",
      " [ 0.86612927  0.39325211  0.0971765   0.91781428]\n",
      " [ 0.45766729  0.89664398  0.32742972  0.80625555]\n",
      " [ 0.47246616  0.2393383   0.74850448  0.2744893 ]\n",
      " [ 0.38065952  0.2396454   0.49605158  0.47252039]]\n",
      "[ 0.52007049  0.19683409]\n",
      "[[ 0.29624151  0.19683409]\n",
      " [ 0.86612927  0.0971765 ]\n",
      " [ 0.45766729  0.32742972]\n",
      " [ 0.47246616  0.74850448]\n",
      " [ 0.38065952  0.49605158]]\n"
     ]
    }
   ],
   "source": [
    "\"\"\"accessing array elemts\"\"\"\n",
    "\n",
    "def test_run():\n",
    "    a = np.random.rand(5,4)\n",
    "    print \"Array: \\n\", a\n",
    "    \n",
    "    # accessing element at position (3,2)\n",
    "    element = a[3,2]\n",
    "     \n",
    "    #elements in defined range\n",
    "    print a[0, 1:3]  #column slicing\n",
    "    \n",
    "    print a[:, 0:3:2]\n",
    "    \n",
    "    \n",
    "    \n",
    "if __name__ == \"__main__\":\n",
    "    test_run()"
   ]
  },
  {
   "cell_type": "code",
   "execution_count": 38,
   "metadata": {
    "collapsed": false
   },
   "outputs": [
    {
     "name": "stdout",
     "output_type": "stream",
     "text": [
      "Array: \n",
      "[[ 0.55954643  0.69960098  0.77345467  0.63399027]\n",
      " [ 0.66652527  0.1283678   0.5497237   0.87219761]\n",
      " [ 0.21252231  0.96637449  0.39893195  0.66724993]\n",
      " [ 0.76185981  0.50517548  0.31735514  0.05505354]\n",
      " [ 0.05316876  0.63555341  0.5410938   0.85408341]]\n",
      "\n",
      " Modified (replaced one element):\n",
      "[[ 1.          0.69960098  0.77345467  0.63399027]\n",
      " [ 0.66652527  0.1283678   0.5497237   0.87219761]\n",
      " [ 0.21252231  0.96637449  0.39893195  0.66724993]\n",
      " [ 0.76185981  0.50517548  0.31735514  0.05505354]\n",
      " [ 0.05316876  0.63555341  0.5410938   0.85408341]]\n"
     ]
    }
   ],
   "source": [
    "\"\"\"accessing array elemts\"\"\"\n",
    "\n",
    "def test_run():\n",
    "    a = np.random.rand(5,4)\n",
    "    print \"Array: \\n\", a\n",
    "    \n",
    "    # accessing element at position (3,2)\n",
    "    a[0,0] = 1\n",
    "    print \"\\n Modified (replaced one element):\\n\",a\n",
    "      \n",
    "    \n",
    "    \n",
    "    \n",
    "if __name__ == \"__main__\":\n",
    "    test_run()"
   ]
  },
  {
   "cell_type": "code",
   "execution_count": 39,
   "metadata": {
    "collapsed": false
   },
   "outputs": [
    {
     "name": "stdout",
     "output_type": "stream",
     "text": [
      "Array: \n",
      "[[ 0.71819427  0.23147459  0.50620594  0.59499413]\n",
      " [ 0.34370863  0.42590808  0.236121    0.88377603]\n",
      " [ 0.09617875  0.53969969  0.99614293  0.80829174]\n",
      " [ 0.23905794  0.60767761  0.96859421  0.41604617]\n",
      " [ 0.83385194  0.07423688  0.48683308  0.2981861 ]]\n",
      "\n",
      " Modified (replaced one element):\n",
      "[[ 0.71819427  0.23147459  0.50620594  1.        ]\n",
      " [ 0.34370863  0.42590808  0.236121    2.        ]\n",
      " [ 0.09617875  0.53969969  0.99614293  3.        ]\n",
      " [ 0.23905794  0.60767761  0.96859421  4.        ]\n",
      " [ 0.83385194  0.07423688  0.48683308  5.        ]]\n"
     ]
    }
   ],
   "source": [
    "\"\"\"accessing array elemts\"\"\"\n",
    "\n",
    "def test_run():\n",
    "    a = np.random.rand(5,4)\n",
    "    print \"Array: \\n\", a\n",
    "    \n",
    "    # accessing element at position (3,2)\n",
    "    a[:,3] = [1,2,3,4,5]\n",
    "    print \"\\n Modified (replaced one element):\\n\",a\n",
    "      \n",
    "    \n",
    "    \n",
    "    \n",
    "if __name__ == \"__main__\":\n",
    "    test_run()"
   ]
  },
  {
   "cell_type": "code",
   "execution_count": 43,
   "metadata": {
    "collapsed": false
   },
   "outputs": [
    {
     "name": "stdout",
     "output_type": "stream",
     "text": [
      "[ 0.02539469  0.94615825  0.90069396  0.79418693  0.14458579]\n",
      "[ 0.94615825  0.90069396  0.79418693]\n"
     ]
    }
   ],
   "source": [
    "\"\"\"accessing array elemts\"\"\"\n",
    "\n",
    "def test_run():\n",
    "    a = np.random.rand(5)\n",
    "    print a\n",
    "    # accessing element at \n",
    "    indices = np.array([1,2,3])\n",
    "    print a[indices]\n",
    "    \n",
    "if __name__ == \"__main__\":\n",
    "    test_run()"
   ]
  },
  {
   "cell_type": "code",
   "execution_count": 46,
   "metadata": {
    "collapsed": false
   },
   "outputs": [
    {
     "name": "stdout",
     "output_type": "stream",
     "text": [
      "[[20 25 10 23 26 23 10  5  0]\n",
      " [ 0  2 50 20  0  1 28  5  0]]\n",
      "13.7777777778\n",
      "[10 10  5  0  0  2  0  1  5  0]\n"
     ]
    }
   ],
   "source": [
    "\"\"\"accessing array elemts\"\"\"\n",
    "\n",
    "def test_run():\n",
    "    a = np.array([(20,25,10,23,26,23,10,5,0),(0,2,50,20,0,1,28,5,0)])\n",
    "    print a\n",
    "    \n",
    "    mean = a.mean()\n",
    "    print mean\n",
    "    \n",
    "    #masking\n",
    "    print a[a<mean]\n",
    "    \n",
    "if __name__ == \"__main__\":\n",
    "    test_run()"
   ]
  },
  {
   "cell_type": "code",
   "execution_count": 47,
   "metadata": {
    "collapsed": false
   },
   "outputs": [
    {
     "name": "stdout",
     "output_type": "stream",
     "text": [
      "Original array a:\n",
      "[[ 1  2  3  4  5]\n",
      " [10 20 30 40 50]]\n",
      "\n",
      "Multiply a by 2:\n",
      "[[  2   4   6   8  10]\n",
      " [ 20  40  60  80 100]]\n"
     ]
    }
   ],
   "source": [
    "\"\"\"accessing array elemts\"\"\"\n",
    "\n",
    "def test_run():\n",
    "    a = np.array([(1,2,3,4,5),(10,20,30,40,50)])\n",
    "    print \"Original array a:\\n\", a\n",
    "    \n",
    "    # multiply a by 2\n",
    "    print \"\\nMultiply a by 2:\\n\", 2 * a\n",
    "    \n",
    "if __name__ == \"__main__\":\n",
    "    test_run()"
   ]
  },
  {
   "cell_type": "code",
   "execution_count": null,
   "metadata": {
    "collapsed": true
   },
   "outputs": [],
   "source": []
  }
 ],
 "metadata": {
  "kernelspec": {
   "display_name": "Python 2",
   "language": "python",
   "name": "python2"
  },
  "language_info": {
   "codemirror_mode": {
    "name": "ipython",
    "version": 2
   },
   "file_extension": ".py",
   "mimetype": "text/x-python",
   "name": "python",
   "nbconvert_exporter": "python",
   "pygments_lexer": "ipython2",
   "version": "2.7.12"
  }
 },
 "nbformat": 4,
 "nbformat_minor": 0
}
